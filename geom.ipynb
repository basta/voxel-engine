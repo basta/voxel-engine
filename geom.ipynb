{
 "cells": [
  {
   "cell_type": "code",
   "execution_count": 6,
   "id": "initial_id",
   "metadata": {
    "collapsed": true,
    "ExecuteTime": {
     "end_time": "2023-11-20T18:49:48.269497645Z",
     "start_time": "2023-11-20T18:49:48.225185013Z"
    }
   },
   "outputs": [
    {
     "data": {
      "text/plain": "5"
     },
     "execution_count": 6,
     "metadata": {},
     "output_type": "execute_result"
    }
   ],
   "source": [
    "import numpy as np\n",
    "import matplotlib.pyplot as plt\n",
    "from mpl_toolkits.mplot3d import Axes3D\n",
    "\n",
    "def draw_3d_points(pointss, c=None):\n",
    "    if c is None:\n",
    "        c = [\"b\"] * len(pointss)\n",
    "    fig = plt.figure()\n",
    "    ax = fig.add_subplot(111, projection='3d')\n",
    "    for i, points in enumerate(pointss):\n",
    "        xs = [point[0] for point in points]\n",
    "        ys = [point[1] for point in points]\n",
    "        zs = [point[2] for point in points]\n",
    "    \n",
    "        ax.scatter(xs, ys, zs, c=c[i])\n",
    "    \n",
    "    ax.set_xlabel('X')\n",
    "    ax.set_ylabel('Y')\n",
    "    ax.set_zlabel('Z')\n",
    "\n",
    "# Example usage:\n",
    "points = [\n",
    "    [1, 2, 3],\n",
    "    [4, 5, 6],\n",
    "    [7, 8, 9]\n",
    "]\n",
    "n = np.array([1, 0, 0]) \n",
    "n = np.array([0, 1, 0]) \n",
    "origin = np.array([2, 0, 0])\n",
    "p = np.array([3, 5, 5])\n",
    "(p - origin).dot(n)"
   ]
  },
  {
   "cell_type": "code",
   "execution_count": 13,
   "outputs": [
    {
     "name": "stdout",
     "output_type": "stream",
     "text": [
      "3.0\n"
     ]
    }
   ],
   "source": [
    "import numpy as np\n",
    "%matplotlib tk\n",
    "\n",
    "def cubeDist(p, center, rot, size):\n",
    "    normals = np.array([\n",
    "        [0., 0., -1.],\n",
    "        [0., 0., 1.],\n",
    "        [1., 0., 0.],\n",
    "        [-1., 0., 0.],\n",
    "        [0., -1., 0.],\n",
    "        [0., 1., 0.]\n",
    "    ])\n",
    "\n",
    "    origins = np.array([\n",
    "        [0., 0., -size[2]/2.],\n",
    "        [0., 0., size[2]/2.],\n",
    "        [size[0]/2., 0., 0.],\n",
    "        [-size[0]/2., 0., 0.],\n",
    "        [0., -size[1]/2., 0.],\n",
    "        [0., size[1]/2., 0.]\n",
    "    ])\n",
    "    \n",
    "    origins += center\n",
    "\n",
    "    maximum = 0.\n",
    "    for i in range(6):\n",
    "        maximum = max(np.dot(p - origins[i], normals[i]), maximum)\n",
    "    \n",
    "    draw_3d_points([[p], [origins[i, :] for i in range(6)]], c=[\"b\", \"r\"])\n",
    "    plt.show()\n",
    "    return maximum\n",
    "\n",
    "# Example usage:\n",
    "p = np.array([4, 0, 0])\n",
    "center = np.array([2, 0, 0])\n",
    "rot = np.array([0, 0, 0])\n",
    "size = np.array([2, 2, 2])\n",
    "\n",
    "print(cubeDist(p, center, rot, size)) "
   ],
   "metadata": {
    "collapsed": false,
    "ExecuteTime": {
     "end_time": "2023-11-20T18:54:20.923568470Z",
     "start_time": "2023-11-20T18:54:20.877752828Z"
    }
   },
   "id": "8a0f04843cfb3686"
  },
  {
   "cell_type": "code",
   "execution_count": 2,
   "outputs": [],
   "source": [],
   "metadata": {
    "collapsed": false,
    "ExecuteTime": {
     "end_time": "2023-11-20T18:47:14.167351579Z",
     "start_time": "2023-11-20T18:47:14.161358253Z"
    }
   },
   "id": "b420ab404c19b978"
  }
 ],
 "metadata": {
  "kernelspec": {
   "display_name": "Python 3",
   "language": "python",
   "name": "python3"
  },
  "language_info": {
   "codemirror_mode": {
    "name": "ipython",
    "version": 2
   },
   "file_extension": ".py",
   "mimetype": "text/x-python",
   "name": "python",
   "nbconvert_exporter": "python",
   "pygments_lexer": "ipython2",
   "version": "2.7.6"
  }
 },
 "nbformat": 4,
 "nbformat_minor": 5
}
