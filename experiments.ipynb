{
 "cells": [
  {
   "cell_type": "code",
   "execution_count": 19,
   "id": "initial_id",
   "metadata": {
    "collapsed": true,
    "ExecuteTime": {
     "end_time": "2023-12-10T19:36:59.490419124Z",
     "start_time": "2023-12-10T19:36:59.461198076Z"
    }
   },
   "outputs": [
    {
     "data": {
      "text/plain": "[<matplotlib.lines.Line2D at 0x7f0df7ebb370>]"
     },
     "execution_count": 19,
     "metadata": {},
     "output_type": "execute_result"
    }
   ],
   "source": [
    "import numpy as np\n",
    "from numpy import *\n",
    "import matplotlib.pyplot as plt\n",
    "\n",
    "%matplotlib tk\n",
    "plt.clf()\n",
    "\n",
    "offset = [0.0, 0.0]\n",
    "fov = [pi/2, pi/4]\n",
    "\n",
    "\n",
    "def get_angle(offset, fov):\n",
    "    d = arctan(pi/4 - fov[0]/2)\n",
    "    return d, degrees(arctan(offset[0]/((tan(pi/2 - fov[0]/2.)*0.5))))\n",
    "\n",
    "xs = np.linspace(0, 0.5, 100)\n",
    "ys = [get_angle([x, 0], fov)[1] for x in xs]\n",
    "ds = [get_angle([x, 0], fov)[0] for x in xs]\n",
    "plt.plot(xs, ys)\n",
    "# plt.plot(xs, ds)"
   ]
  },
  {
   "cell_type": "code",
   "execution_count": 5,
   "outputs": [
    {
     "data": {
      "text/plain": "0.0"
     },
     "execution_count": 5,
     "metadata": {},
     "output_type": "execute_result"
    }
   ],
   "source": [
    "ys"
   ],
   "metadata": {
    "collapsed": false,
    "ExecuteTime": {
     "end_time": "2023-12-10T19:30:05.946384872Z",
     "start_time": "2023-12-10T19:30:05.943153888Z"
    }
   },
   "id": "31c22a5f9f906fdf"
  }
 ],
 "metadata": {
  "kernelspec": {
   "display_name": "Python 3",
   "language": "python",
   "name": "python3"
  },
  "language_info": {
   "codemirror_mode": {
    "name": "ipython",
    "version": 2
   },
   "file_extension": ".py",
   "mimetype": "text/x-python",
   "name": "python",
   "nbconvert_exporter": "python",
   "pygments_lexer": "ipython2",
   "version": "2.7.6"
  }
 },
 "nbformat": 4,
 "nbformat_minor": 5
}
